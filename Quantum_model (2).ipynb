{
  "nbformat": 4,
  "nbformat_minor": 0,
  "metadata": {
    "colab": {
      "name": "Quantum model.ipynb",
      "provenance": []
    },
    "kernelspec": {
      "display_name": "Python 3",
      "name": "python3"
    }
  },
  "cells": [
    {
      "cell_type": "code",
      "metadata": {
        "colab": {
          "background_save": true,
          "base_uri": "https://localhost:8080/"
        },
        "id": "vJvn2t1qEQav",
        "outputId": "5d9709a1-9063-4a61-9acc-c4979c8d45de"
      },
      "source": [
        "pip install -q tensorflow==2.3.1"
      ],
      "execution_count": null,
      "outputs": [
        {
          "output_type": "stream",
          "text": [
            "\u001b[K     |████████████████████████████████| 320.4MB 55kB/s \n",
            "\u001b[?25h"
          ],
          "name": "stdout"
        }
      ]
    },
    {
      "cell_type": "code",
      "metadata": {
        "colab": {
          "base_uri": "https://localhost:8080/"
        },
        "id": "qLX0hxRzERFK",
        "outputId": "bd92dbaf-301a-473c-9804-e50cc60feeb7"
      },
      "source": [
        "pip install -q tensorflow-quantum"
      ],
      "execution_count": null,
      "outputs": [
        {
          "output_type": "stream",
          "text": [
            "\u001b[K     |████████████████████████████████| 5.9MB 12.4MB/s \n",
            "\u001b[K     |████████████████████████████████| 5.6MB 23.2MB/s \n",
            "\u001b[K     |████████████████████████████████| 1.6MB 47.3MB/s \n",
            "\u001b[?25h"
          ],
          "name": "stdout"
        }
      ]
    },
    {
      "cell_type": "code",
      "metadata": {
        "id": "0P4TSg_aEU4L"
      },
      "source": [
        "import tensorflow as tf\n",
        "import tensorflow_quantum as tfq\n",
        "\n",
        "import cirq\n",
        "import sympy\n",
        "import numpy as np\n",
        "\n",
        "# visualization tools\n",
        "%matplotlib inline\n",
        "import matplotlib.pyplot as plt\n",
        "from cirq.contrib.svg import SVGCircuit"
      ],
      "execution_count": null,
      "outputs": []
    },
    {
      "cell_type": "code",
      "metadata": {
        "id": "IvBAUJ2tEsBB"
      },
      "source": [
        "a, b = sympy.symbols('a b')\n",
        "\n",
        "q0, q1 = cirq.GridQubit.rect(1, 2)\n",
        "circuit = cirq.Circuit(\n",
        "    cirq.rx(a).on(q0),\n",
        "    cirq.ry(b).on(q1), cirq.CNOT(control=q0, target=q1))\n",
        "\n",
        "cirq_simulator = cirq.Simulator()\n",
        "z0 = cirq.Z(q0)"
      ],
      "execution_count": null,
      "outputs": []
    },
    {
      "cell_type": "code",
      "metadata": {
        "id": "KYwrAx9kZHwb"
      },
      "source": [
        "# Parameters that the classical NN will feed values into.\r\n",
        "control_params = sympy.symbols('theta_1 theta_2 theta_3')\r\n",
        "\r\n",
        "# Create the parameterized circuit.\r\n",
        "qubit = cirq.GridQubit(0, 0)\r\n",
        "model_circuit = cirq.Circuit(\r\n",
        "    cirq.rz(control_params[0])(qubit),\r\n",
        "    cirq.ry(control_params[1])(qubit),\r\n",
        "    cirq.rx(control_params[2])(qubit))\r\n",
        "\r\n",
        "SVGCircuit(model_circuit)\r\n",
        "\r\n",
        "controller = tf.keras.Sequential([\r\n",
        "    tf.keras.layers.Dense(10, activation='elu'),\r\n",
        "    tf.keras.layers.Dense(3)\r\n",
        "])"
      ],
      "execution_count": null,
      "outputs": []
    },
    {
      "cell_type": "code",
      "metadata": {
        "id": "H_V_3EEPF0tL"
      },
      "source": [
        "# This input is the simulated miscalibration that the model will learn to correct.\n",
        "circuits_input = tf.keras.Input(shape=(),\n",
        "                                # The circuit-tensor has dtype `tf.string` \n",
        "                                dtype=tf.string,\n",
        "                                name='circuits_input')\n",
        "\n",
        "# Commands will be either `0` or `1`, specifying the state to set the qubit to.\n",
        "commands_input = tf.keras.Input(shape=(1,),\n",
        "                                dtype=tf.dtypes.float32,\n",
        "                                name='commands_input')"
      ],
      "execution_count": null,
      "outputs": []
    },
    {
      "cell_type": "code",
      "metadata": {
        "colab": {
          "base_uri": "https://localhost:8080/",
          "height": 232
        },
        "id": "9e8xgTsCF1Os",
        "outputId": "ea61d0f3-0a51-426a-a4cc-aff8e858305a"
      },
      "source": [
        "# Dense layer for the controller and command input\n",
        "dense_2 = controller(commands_input)\n",
        "\n",
        "# TFQ layer for classically controlled circuits.\n",
        "expectation_layer = tfq.layers.ControlledPQC(model_circuit,\n",
        "                                             # Observe Z\n",
        "                                             operators = cirq.Z(qubit))\n",
        "expectation = expectation_layer([circuits_input, dense_2])\n",
        "\n",
        "# The full Keras model is built from our layers.\n",
        "model = tf.keras.Model(inputs=[circuits_input, commands_input],\n",
        "                       outputs=expectation)\n",
        "\n",
        "tf.keras.utils.plot_model(model, show_shapes=True, dpi=70)"
      ],
      "execution_count": null,
      "outputs": [
        {
          "output_type": "execute_result",
          "data": {
            "image/png": "[encoded data removed]",
            "text/plain": [
              "<IPython.core.display.Image object>"
            ]
          },
          "metadata": {
            "tags": []
          },
          "execution_count": 9
        }
      ]
    },
    {
      "cell_type": "code",
      "metadata": {
        "id": "UW8dH7pMF37p"
      },
      "source": [
        "# The command input values to the classical NN.\n",
        "commands = np.array([[0], [1]], dtype=np.float32)\n",
        "\n",
        "# The desired Z expectation value at output of quantum circuit.\n",
        "expected_outputs = np.array([[1], [-1]], dtype=np.float32)\n",
        "\n",
        "# Miscalibrating the quantum circuit and making one copy for each data point (n=2)\n",
        "random_rotations = np.random.uniform(0, 2 * np.pi, 3)\n",
        "noisy_preparation = cirq.Circuit(cirq.rx(random_rotations[0])(qubit), cirq.ry(random_rotations[1])(qubit), cirq.rz(random_rotations[2])(qubit))\n",
        "datapoint_circuits = tfq.convert_to_tensor([noisy_preparation] * 2)  # Make two copied of this circuit"
      ],
      "execution_count": null,
      "outputs": []
    },
    {
      "cell_type": "code",
      "metadata": {
        "id": "FFueCuFCGByw",
        "colab": {
          "base_uri": "https://localhost:8080/",
          "height": 295
        },
        "outputId": "32f1736b-e402-46ed-ebb4-0d24a6fc7aba"
      },
      "source": [
        "optimizer = tf.keras.optimizers.Adam(learning_rate=0.05)\n",
        "loss = tf.keras.losses.MeanSquaredError()\n",
        "model.compile(optimizer=optimizer, loss=loss)\n",
        "history = model.fit(x=[datapoint_circuits, commands],\n",
        "                    y=expected_outputs,\n",
        "                    epochs=100,\n",
        "                    verbose=0)\n",
        "\n",
        "plt.plot(history.history['loss'])\n",
        "plt.title(\"Learning to Control a Qubit\")\n",
        "plt.xlabel(\"Iterations\")\n",
        "plt.ylabel(\"Error in Control\")\n",
        "plt.show()\n"
      ],
      "execution_count": null,
      "outputs": [
        {
          "output_type": "display_data",
          "data": {
            "image/png": "[encoded data removed]",
            "text/plain": [
              "<Figure size 432x288 with 1 Axes>"
            ]
          },
          "metadata": {
            "tags": [],
            "needs_background": "light"
          }
        }
      ]
    },
    {
      "cell_type": "code",
      "metadata": {
        "colab": {
          "base_uri": "https://localhost:8080/"
        },
        "id": "GEE7CaTyGGfA",
        "outputId": "fe06d07d-1153-444f-9568-2d382664f5e7"
      },
      "source": [
        "def check_error(command_values, desired_values):\n",
        "  \"\"\"Based on the value in `command_value` see how well you could prepare\n",
        "  the full circuit to have `desired_value` when taking expectation w.r.t. Z.\"\"\"\n",
        "  params_to_prepare_output = controller(command_values).numpy()\n",
        "  full_circuit = noisy_preparation + model_circuit\n",
        "\n",
        "  # Test how well you can prepare a state to get expectation the expectation\n",
        "  # value in `desired_values`\n",
        "  for index in [0, 1]:\n",
        "    state = cirq_simulator.simulate(\n",
        "        full_circuit,\n",
        "        {s:v for (s,v) in zip(control_params, params_to_prepare_output[index])}\n",
        "    ).final_state\n",
        "    expectation = z0.expectation_from_wavefunction(state, {qubit: 0}).real\n",
        "    print(f'For a desired output (expectation) of {desired_values[index]} with'\n",
        "          f' noisy preparation, the controller\\nnetwork found the following '\n",
        "          f'values for theta: {params_to_prepare_output[index]}\\nWhich gives an'\n",
        "          f' actual expectation of: {expectation}\\n')\n",
        "\n",
        "\n",
        "check_error(commands, expected_outputs)"
      ],
      "execution_count": null,
      "outputs": [
        {
          "output_type": "stream",
          "text": [
            "For a desired output (expectation) of [1.] with noisy preparation, the controller\n",
            "network found the following values for theta: [ 0.29402682  0.16275215 -0.812215  ]\n",
            "Which gives an actual expectation of: 0.9995236396789551\n",
            "\n",
            "For a desired output (expectation) of [-1.] with noisy preparation, the controller\n",
            "network found the following values for theta: [-2.6150348 -9.387202   5.4998145]\n",
            "Which gives an actual expectation of: -0.9997806549072266\n",
            "\n"
          ],
          "name": "stdout"
        },
        {
          "output_type": "stream",
          "text": [
            "/usr/local/lib/python3.6/dist-packages/ipykernel_launcher.py:12: DeprecationWarning: StateVectorTrialResult.final_state was used but is deprecated.\n",
            "It will be removed in cirq v0.10.0.\n",
            "Use final_state_vector instead.\n",
            "\n",
            "  if sys.path[0] == '':\n",
            "/usr/local/lib/python3.6/dist-packages/ipykernel_launcher.py:14: DeprecationWarning: PauliString.expectation_from_wavefunction was used but is deprecated.\n",
            "It will be removed in cirq v0.10.0.\n",
            "Use expectation_from_state_vector instead\n",
            "\n",
            "  \n"
          ],
          "name": "stderr"
        }
      ]
    },
    {
      "cell_type": "code",
      "metadata": {
        "id": "FSkM1C95J4t5"
      },
      "source": [
        ""
      ],
      "execution_count": null,
      "outputs": []
    },
    {
      "cell_type": "code",
      "metadata": {
        "colab": {
          "base_uri": "https://localhost:8080/",
          "height": 731
        },
        "id": "hHXgXveeTWUC",
        "outputId": "79f7bd23-217c-44b0-a615-b36d5c9a112b"
      },
      "source": [
        "\n",
        "# The command input values to the classical NN.\n",
        "commands = np.array([[0], [1], [2], [3]], dtype=np.float32)\n",
        "\n",
        "# The desired Z expectation value at output of quantum circuit.\n",
        "expected_outputs = np.array([[1], [-1], [.5], [-0.5]], dtype=np.float32)\n",
        "\n",
        "random_rotations = np.random.uniform(0, 2 * np.pi, 3)\n",
        "noisy_preparation = cirq.Circuit(\n",
        "  cirq.rx(random_rotations[0])(qubit),\n",
        "  cirq.ry(random_rotations[1])(qubit),\n",
        "  cirq.rz(random_rotations[2])(qubit))\n",
        "\n",
        "datapoint_circuits = tfq.convert_to_tensor([noisy_preparation] * 4)  # Make four copied of this circuit\n",
        "\n",
        "optimizer = tf.keras.optimizers.Adam(learning_rate=0.05)\n",
        "loss = tf.keras.losses.MeanSquaredError()\n",
        "model.compile(optimizer=optimizer, loss=loss)\n",
        "history = model.fit(x=[datapoint_circuits, commands],\n",
        "                    y=expected_outputs,\n",
        "                    epochs=300,\n",
        "                    verbose=0)\n",
        "\n",
        "plt.plot(history.history['loss'])\n",
        "plt.title(\"Learning to Control a Qubit\")\n",
        "plt.xlabel(\"Iterations\")\n",
        "plt.ylabel(\"Error in Control\")\n",
        "plt.show()\n",
        "\n",
        "def check_error(command_values, desired_values):\n",
        "  \"\"\"Based on the value in `command_value` see how well you could prepare\n",
        "  the full circuit to have `desired_value` when taking expectation w.r.t. Z.\"\"\"\n",
        "  params_to_prepare_output = controller(command_values).numpy()\n",
        "  full_circuit = noisy_preparation + model_circuit\n",
        "\n",
        "  # Test how well you can prepare a state to get expectation the expectation\n",
        "  # value in `desired_values`\n",
        "  for index in range(4):\n",
        "    state = cirq_simulator.simulate(\n",
        "        full_circuit,\n",
        "        {s:v for (s,v) in zip(control_params, params_to_prepare_output[index])}\n",
        "    ).final_state\n",
        "    expectation = z0.expectation_from_wavefunction(state, {qubit: 0}).real\n",
        "    print(f'For a desired output (expectation) of {desired_values[index]} with'\n",
        "          f' noisy preparation, the controller\\nnetwork found the following '\n",
        "          f'values for theta: {params_to_prepare_output[index]}\\nWhich gives an'\n",
        "          f' actual expectation of: {expectation}\\n')\n",
        "\n",
        "\n",
        "check_error(commands, expected_outputs)"
      ],
      "execution_count": null,
      "outputs": [
        {
          "output_type": "display_data",
          "data": {
            "image/png": "[encoded data removed]",
            "text/plain": [
              "<Figure size 432x288 with 1 Axes>"
            ]
          },
          "metadata": {
            "tags": [],
            "needs_background": "light"
          }
        },
        {
          "output_type": "stream",
          "text": [
            "For a desired output (expectation) of [1.] with noisy preparation, the controller\n",
            "network found the following values for theta: [ 0.2626354 -0.673415   1.1981827]\n",
            "Which gives an actual expectation of: 0.9922557473182678\n",
            "\n",
            "For a desired output (expectation) of [-1.] with noisy preparation, the controller\n",
            "network found the following values for theta: [ -3.5305831 -11.381677    8.761541 ]\n",
            "Which gives an actual expectation of: -0.9901177883148193\n",
            "\n",
            "For a desired output (expectation) of [0.5] with noisy preparation, the controller\n",
            "network found the following values for theta: [ -7.423326 -22.355661  16.087498]\n",
            "Which gives an actual expectation of: 0.4992715120315552\n",
            "\n",
            "For a desired output (expectation) of [-0.5] with noisy preparation, the controller\n",
            "network found the following values for theta: [-11.296317 -33.3443    23.280954]\n",
            "Which gives an actual expectation of: -0.5000528693199158\n",
            "\n"
          ],
          "name": "stdout"
        },
        {
          "output_type": "stream",
          "text": [
            "/usr/local/lib/python3.6/dist-packages/ipykernel_launcher.py:41: DeprecationWarning: StateVectorTrialResult.final_state was used but is deprecated.\n",
            "It will be removed in cirq v0.10.0.\n",
            "Use final_state_vector instead.\n",
            "\n",
            "/usr/local/lib/python3.6/dist-packages/ipykernel_launcher.py:43: DeprecationWarning: PauliString.expectation_from_wavefunction was used but is deprecated.\n",
            "It will be removed in cirq v0.10.0.\n",
            "Use expectation_from_state_vector instead\n",
            "\n"
          ],
          "name": "stderr"
        }
      ]
    },
    {
      "cell_type": "code",
      "metadata": {
        "id": "ORbRzsx5KAXB"
      },
      "source": [
        ""
      ],
      "execution_count": null,
      "outputs": []
    }
  ]
}